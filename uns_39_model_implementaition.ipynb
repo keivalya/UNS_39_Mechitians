{
  "nbformat": 4,
  "nbformat_minor": 0,
  "metadata": {
    "colab": {
      "name": "uns_39_model_implementaition.ipynb",
      "provenance": []
    },
    "kernelspec": {
      "name": "python3",
      "display_name": "Python 3"
    },
    "language_info": {
      "name": "python"
    }
  },
  "cells": [
    {
      "cell_type": "code",
      "execution_count": 10,
      "metadata": {
        "colab": {
          "base_uri": "https://localhost:8080/"
        },
        "id": "APXWBbcFNkzz",
        "outputId": "75485378-78f2-4ded-9282-2691de3d262a"
      },
      "outputs": [
        {
          "output_type": "stream",
          "name": "stdout",
          "text": [
            "(1, 224, 224, 3)\n",
            "[[[[-0.8346457  -0.9055118  -0.88188976]\n",
            "   [-0.8346457  -0.9055118  -0.88188976]\n",
            "   [-0.8425197  -0.9212598  -0.8976378 ]\n",
            "   ...\n",
            "   [-0.8267716  -0.8976378  -0.87401575]\n",
            "   [-0.8346457  -0.88188976 -0.86614174]\n",
            "   [-0.8188976  -0.88188976 -0.8582677 ]]\n",
            "\n",
            "  [[-0.8503937  -0.92913383 -0.9055118 ]\n",
            "   [-0.8503937  -0.92913383 -0.9055118 ]\n",
            "   [-0.8582677  -0.92913383 -0.9055118 ]\n",
            "   ...\n",
            "   [-0.8267716  -0.8976378  -0.87401575]\n",
            "   [-0.8503937  -0.9133858  -0.8897638 ]\n",
            "   [-0.8267716  -0.8976378  -0.87401575]]\n",
            "\n",
            "  [[-0.8267716  -0.9133858  -0.88188976]\n",
            "   [-0.8110236  -0.8976378  -0.86614174]\n",
            "   [-0.8267716  -0.8976378  -0.87401575]\n",
            "   ...\n",
            "   [-0.8110236  -0.88188976 -0.8582677 ]\n",
            "   [-0.8425197  -0.9133858  -0.8897638 ]\n",
            "   [-0.8503937  -0.9212598  -0.8976378 ]]\n",
            "\n",
            "  ...\n",
            "\n",
            "  [[-0.79527557 -0.88188976 -0.8503937 ]\n",
            "   [-0.8110236  -0.8976378  -0.86614174]\n",
            "   [-0.79527557 -0.88188976 -0.8346457 ]\n",
            "   ...\n",
            "   [-0.8188976  -0.9055118  -0.8582677 ]\n",
            "   [-0.8110236  -0.8976378  -0.86614174]\n",
            "   [-0.8188976  -0.9055118  -0.88188976]]\n",
            "\n",
            "  [[-0.77952754 -0.86614174 -0.8346457 ]\n",
            "   [-0.8110236  -0.8976378  -0.86614174]\n",
            "   [-0.78740156 -0.87401575 -0.8267716 ]\n",
            "   ...\n",
            "   [-0.78740156 -0.87401575 -0.8346457 ]\n",
            "   [-0.8188976  -0.9055118  -0.87401575]\n",
            "   [-0.8188976  -0.9055118  -0.87401575]]\n",
            "\n",
            "  [[-0.7637795  -0.8503937  -0.8188976 ]\n",
            "   [-0.79527557 -0.88188976 -0.8503937 ]\n",
            "   [-0.78740156 -0.87401575 -0.8267716 ]\n",
            "   ...\n",
            "   [-0.7480315  -0.8346457  -0.8031496 ]\n",
            "   [-0.8582677  -0.9448819  -0.9133858 ]\n",
            "   [-0.8031496  -0.8897638  -0.8582677 ]]]]\n",
            "[[3.6817100e-06 3.6176093e-10 5.4992220e-09 6.4155952e-09 9.9998701e-01\n",
            "  2.4013189e-09 1.3178669e-08 2.0371239e-07 9.0132808e-06]]\n"
          ]
        }
      ],
      "source": [
        "from keras.models import load_model\n",
        "from PIL import Image, ImageOps\n",
        "import numpy as np\n",
        "\n",
        "# Load the model\n",
        "model = load_model('keras_model.h5', compile=False)\n",
        "\n",
        "# Create the array of the right shape to feed into the keras model\n",
        "# The 'length' or number of images you can put into the array is\n",
        "# determined by the first position in the shape tuple, in this case 1.\n",
        "data = np.ndarray(shape=(1, 224, 224, 3), dtype=np.float32)\n",
        "# Replace this with the path to your image\n",
        "image = Image.open('/content/drive/MyDrive/Datasets/dry/dry(102).jpg')\n",
        "#resize the image to a 224x224 with the same strategy as in TM2:\n",
        "#resizing the image to be at least 224x224 and then cropping from the center\n",
        "size = (224, 224)\n",
        "image = ImageOps.fit(image, size, Image.ANTIALIAS)\n",
        "\n",
        "#turn the image into a numpy array\n",
        "image_array = np.asarray(image)\n",
        "# Normalize the image\n",
        "normalized_image_array = (image_array.astype(np.float32) / 127.0) - 1\n",
        "# Load the image into the array\n",
        "data[0] = normalized_image_array\n",
        "\n",
        "# run the inference\n",
        "prediction = model.predict(data)\n",
        "print(data.shape)\n",
        "print(data)\n",
        "print(index(prediction))\n"
      ]
    }
  ]
}